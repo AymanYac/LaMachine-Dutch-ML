{
 "cells": [
  {
   "cell_type": "code",
   "execution_count": 1,
   "metadata": {},
   "outputs": [
    {
     "data": {
      "text/html": [
       "<style>.container { width:100% !important; }</style>"
      ],
      "text/plain": [
       "<IPython.core.display.HTML object>"
      ]
     },
     "metadata": {},
     "output_type": "display_data"
    }
   ],
   "source": [
    "from IPython.core.display import display, HTML\n",
    "display(HTML(\"<style>.container { width:100% !important; }</style>\"))\n",
    "import pandas as pd"
   ]
  },
  {
   "cell_type": "code",
   "execution_count": 3,
   "metadata": {},
   "outputs": [],
   "source": [
    "df = pd.read_csv('/mnt/c/Users/yacay/OneDrive/Documents/VOLGENS_PROSPECTION.csv',skiprows=1,encoding='latin-1')"
   ]
  },
  {
   "cell_type": "code",
   "execution_count": 5,
   "metadata": {},
   "outputs": [
    {
     "data": {
      "text/html": [
       "<div>\n",
       "<style scoped>\n",
       "    .dataframe tbody tr th:only-of-type {\n",
       "        vertical-align: middle;\n",
       "    }\n",
       "\n",
       "    .dataframe tbody tr th {\n",
       "        vertical-align: top;\n",
       "    }\n",
       "\n",
       "    .dataframe thead th {\n",
       "        text-align: right;\n",
       "    }\n",
       "</style>\n",
       "<table border=\"1\" class=\"dataframe\">\n",
       "  <thead>\n",
       "    <tr style=\"text-align: right;\">\n",
       "      <th></th>\n",
       "      <th>Item ID</th>\n",
       "      <th>Short description DU</th>\n",
       "      <th>Long description DU</th>\n",
       "      <th>PO text DU</th>\n",
       "    </tr>\n",
       "  </thead>\n",
       "  <tbody>\n",
       "    <tr>\n",
       "      <th>0</th>\n",
       "      <td>AM00308263</td>\n",
       "      <td>Gewap. kabel energieverd. EXAVB 4GX2,5</td>\n",
       "      <td>ONDERGRONDSE STERKSTROOMKABEL MET PVC-ISOLATIE...</td>\n",
       "      <td>ONDERGRONDSE STERKSTROOMKABEL MET PVC-ISOLATIE...</td>\n",
       "    </tr>\n",
       "    <tr>\n",
       "      <th>1</th>\n",
       "      <td>AM00402287</td>\n",
       "      <td>Kabelgeleidingscil. pl. MP3-1573 dia.83</td>\n",
       "      <td>Komplete kabelgeleidingsrol volgens plan MP3.1...</td>\n",
       "      <td>Komplete kabelgeleidingsrol volgens plan MP3.1...</td>\n",
       "    </tr>\n",
       "    <tr>\n",
       "      <th>2</th>\n",
       "      <td>AM00402288</td>\n",
       "      <td>Kabelgeleidingscil. pl. mp3.1573</td>\n",
       "      <td>Komplete kabelgeleidingsrol volgens plan MP3.1...</td>\n",
       "      <td>Komplete kabelgeleidingsrol volgens plan MP3.1...</td>\n",
       "    </tr>\n",
       "    <tr>\n",
       "      <th>3</th>\n",
       "      <td>AM00402289</td>\n",
       "      <td>KETTINGWIEL - 42 TANDEN - STEEK = 15,875</td>\n",
       "      <td>Kabeloprollers  BISCHOFF-HENSCHEL¶¶kettingwiel...</td>\n",
       "      <td>Kabeloprollers  BISCHOFF-HENSCHEL¶¶kettingwiel...</td>\n",
       "    </tr>\n",
       "    <tr>\n",
       "      <th>4</th>\n",
       "      <td>AM00402621</td>\n",
       "      <td>KOMPLETE GELEIDINGSROL MET STEUN VOLGENS</td>\n",
       "      <td>KOMPLETE GELEIDINGSROL MET STEUN VOLGENS PLAN ...</td>\n",
       "      <td>KOMPLETE GELEIDINGSROL MET STEUN VOLGENS PLAN ...</td>\n",
       "    </tr>\n",
       "  </tbody>\n",
       "</table>\n",
       "</div>"
      ],
      "text/plain": [
       "      Item ID                      Short description DU  \\\n",
       "0  AM00308263    Gewap. kabel energieverd. EXAVB 4GX2,5   \n",
       "1  AM00402287   Kabelgeleidingscil. pl. MP3-1573 dia.83   \n",
       "2  AM00402288          Kabelgeleidingscil. pl. mp3.1573   \n",
       "3  AM00402289  KETTINGWIEL - 42 TANDEN - STEEK = 15,875   \n",
       "4  AM00402621  KOMPLETE GELEIDINGSROL MET STEUN VOLGENS   \n",
       "\n",
       "                                 Long description DU  \\\n",
       "0  ONDERGRONDSE STERKSTROOMKABEL MET PVC-ISOLATIE...   \n",
       "1  Komplete kabelgeleidingsrol volgens plan MP3.1...   \n",
       "2  Komplete kabelgeleidingsrol volgens plan MP3.1...   \n",
       "3  Kabeloprollers  BISCHOFF-HENSCHEL¶¶kettingwiel...   \n",
       "4  KOMPLETE GELEIDINGSROL MET STEUN VOLGENS PLAN ...   \n",
       "\n",
       "                                          PO text DU  \n",
       "0  ONDERGRONDSE STERKSTROOMKABEL MET PVC-ISOLATIE...  \n",
       "1  Komplete kabelgeleidingsrol volgens plan MP3.1...  \n",
       "2  Komplete kabelgeleidingsrol volgens plan MP3.1...  \n",
       "3  Kabeloprollers  BISCHOFF-HENSCHEL¶¶kettingwiel...  \n",
       "4  KOMPLETE GELEIDINGSROL MET STEUN VOLGENS PLAN ...  "
      ]
     },
     "execution_count": 5,
     "metadata": {},
     "output_type": "execute_result"
    }
   ],
   "source": [
    "df.head()"
   ]
  },
  {
   "cell_type": "code",
   "execution_count": 6,
   "metadata": {},
   "outputs": [
    {
     "name": "stdout",
     "output_type": "stream",
     "text": [
      "Short description DU\n",
      "Long description DU\n",
      "PO text DU\n"
     ]
    }
   ],
   "source": [
    "dico = set()\n",
    "def add_to_dico(desc):\n",
    "    if(pd.isna(desc)):\n",
    "        return\n",
    "    try:\n",
    "        ix = desc.upper().split(\" \").index(\"PLAN\")\n",
    "        dico.add(desc.upper().split(\" \")[ix-1])\n",
    "    except:\n",
    "        return\n",
    "    \n",
    "for col in df.columns:\n",
    "    if \"Item ID\"!=col:\n",
    "        print(col)\n",
    "        df[col].apply(add_to_dico)"
   ]
  },
  {
   "cell_type": "code",
   "execution_count": 10,
   "metadata": {
    "scrolled": true
   },
   "outputs": [
    {
     "data": {
      "text/plain": [
       "1247"
      ]
     },
     "execution_count": 10,
     "metadata": {},
     "output_type": "execute_result"
    }
   ],
   "source": [
    "len(dico)"
   ]
  },
  {
   "cell_type": "code",
   "execution_count": 12,
   "metadata": {},
   "outputs": [],
   "source": [
    "import csv\n",
    "csvfile='/mnt/c/Users/yacay/OneDrive/Documents/VOLGENS_ANTECEDENT.csv'\n",
    "with open(csvfile, \"w\") as output:\n",
    "    writer = csv.writer(output, lineterminator='\\n')\n",
    "    for val in dico:\n",
    "        writer.writerow([val])"
   ]
  },
  {
   "cell_type": "code",
   "execution_count": 13,
   "metadata": {},
   "outputs": [],
   "source": [
    "at = pd.read_csv(csvfile)"
   ]
  },
  {
   "cell_type": "code",
   "execution_count": 39,
   "metadata": {},
   "outputs": [
    {
     "data": {
      "text/plain": [
       "0       None\n",
       "1       None\n",
       "2       None\n",
       "3       None\n",
       "4       None\n",
       "5       None\n",
       "6       None\n",
       "7       None\n",
       "8       None\n",
       "9       None\n",
       "10      None\n",
       "11      None\n",
       "12      None\n",
       "13      None\n",
       "14      None\n",
       "15      None\n",
       "16      None\n",
       "17      None\n",
       "18      None\n",
       "19      None\n",
       "20      None\n",
       "21      None\n",
       "22      None\n",
       "23      None\n",
       "24      None\n",
       "25      None\n",
       "26      None\n",
       "27      None\n",
       "28      None\n",
       "29      None\n",
       "        ... \n",
       "1216    None\n",
       "1217    None\n",
       "1218    None\n",
       "1219    None\n",
       "1220    None\n",
       "1221    None\n",
       "1222    None\n",
       "1223    None\n",
       "1224    None\n",
       "1225    None\n",
       "1226    None\n",
       "1227    None\n",
       "1228    None\n",
       "1229    None\n",
       "1230    None\n",
       "1231    None\n",
       "1232    None\n",
       "1233    None\n",
       "1234    None\n",
       "1235    None\n",
       "1236    None\n",
       "1237    None\n",
       "1238    None\n",
       "1239    None\n",
       "1240    None\n",
       "1241    None\n",
       "1242    None\n",
       "1243    None\n",
       "1244    None\n",
       "1245    None\n",
       "Length: 1246, dtype: object"
      ]
     },
     "execution_count": 39,
     "metadata": {},
     "output_type": "execute_result"
    }
   ],
   "source": [
    "dico2=set()\n",
    "def check_in_dico(row):\n",
    "    word = row['ANTECEDENT']\n",
    "    if row['Keep'] !='OK':\n",
    "        pass\n",
    "    else:\n",
    "        dico2.add(word)\n",
    "at.apply(check_in_dico,axis=1)"
   ]
  },
  {
   "cell_type": "code",
   "execution_count": 35,
   "metadata": {},
   "outputs": [],
   "source": [
    "diff = dico - dico2"
   ]
  },
  {
   "cell_type": "code",
   "execution_count": 42,
   "metadata": {},
   "outputs": [],
   "source": [
    "for elem in diff:\n",
    "    dico2.add(elem)"
   ]
  },
  {
   "cell_type": "code",
   "execution_count": 50,
   "metadata": {},
   "outputs": [
    {
     "name": "stdout",
     "output_type": "stream",
     "text": [
      "Short description DU\n",
      "Long description DU\n",
      "PO text DU\n"
     ]
    }
   ],
   "source": [
    "aid = set()\n",
    "def check_frm_dico(row):\n",
    "    desc = row[1]\n",
    "    if(pd.isna(desc)):\n",
    "        return\n",
    "    try:\n",
    "        ix = desc.upper().split(\" \").index(\"PLAN\")\n",
    "        if desc.upper().split(\" \")[ix-1] in dico2:\n",
    "            aid.add(row[0])\n",
    "    except:\n",
    "        return\n",
    "for col in df.columns:\n",
    "    if \"Item ID\"!=col:\n",
    "        print(col)\n",
    "        df[['Item ID',col]].apply(check_frm_dico,axis=1)"
   ]
  },
  {
   "cell_type": "code",
   "execution_count": 51,
   "metadata": {},
   "outputs": [
    {
     "data": {
      "text/plain": [
       "479"
      ]
     },
     "execution_count": 51,
     "metadata": {},
     "output_type": "execute_result"
    }
   ],
   "source": [
    "len(dico2)"
   ]
  },
  {
   "cell_type": "code",
   "execution_count": 53,
   "metadata": {},
   "outputs": [
    {
     "data": {
      "text/plain": [
       "4399"
      ]
     },
     "execution_count": 53,
     "metadata": {},
     "output_type": "execute_result"
    }
   ],
   "source": [
    "len(aid)"
   ]
  },
  {
   "cell_type": "code",
   "execution_count": 55,
   "metadata": {},
   "outputs": [],
   "source": [
    "import csv\n",
    "csvfile='/mnt/c/Users/yacay/OneDrive/Documents/Articles_PLAN_DESSIN.csv'\n",
    "with open(csvfile, \"w\") as output:\n",
    "    writer = csv.writer(output, lineterminator='\\n')\n",
    "    for val in aid:\n",
    "        writer.writerow([val])"
   ]
  }
 ],
 "metadata": {
  "kernelspec": {
   "display_name": "Python 3",
   "language": "python",
   "name": "python3"
  },
  "language_info": {
   "codemirror_mode": {
    "name": "ipython",
    "version": 3
   },
   "file_extension": ".py",
   "mimetype": "text/x-python",
   "name": "python",
   "nbconvert_exporter": "python",
   "pygments_lexer": "ipython3",
   "version": "3.5.3"
  }
 },
 "nbformat": 4,
 "nbformat_minor": 2
}
